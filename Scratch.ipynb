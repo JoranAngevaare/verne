{
 "cells": [
  {
   "cell_type": "code",
   "execution_count": 6,
   "metadata": {},
   "outputs": [],
   "source": [
    "import numpy as np\n",
    "import WIMpy.DMUtils as DMU\n",
    "from numpy import pi\n",
    "from scipy.integrate import quad, dblquad, trapz\n",
    "import verne_analytic as VA\n",
    "from verne_analytic import isoID\n",
    "from skmonaco import mcquad\n",
    "from timeit import default_timer as timer\n",
    "from tqdm import tqdm"
   ]
  },
  {
   "cell_type": "code",
   "execution_count": 7,
   "metadata": {
    "collapsed": true
   },
   "outputs": [],
   "source": [
    "#Matplotlib ------------\n",
    "\n",
    "import matplotlib as mpl\n",
    "font = { 'size'   : 14}\n",
    "mpl.rcParams['xtick.major.size'] = 5\n",
    "mpl.rcParams['xtick.major.width'] = 1\n",
    "mpl.rcParams['xtick.minor.size'] = 2\n",
    "mpl.rcParams['xtick.minor.width'] = 1\n",
    "mpl.rcParams['ytick.major.size'] = 5\n",
    "mpl.rcParams['ytick.major.width'] = 1\n",
    "mpl.rcParams['ytick.minor.size'] = 2\n",
    "mpl.rcParams['ytick.minor.width'] = 1\n",
    "mpl.rc('font', **font)\n",
    "\n",
    "import matplotlib.pyplot as pl\n",
    "#------------------------"
   ]
  },
  {
   "cell_type": "code",
   "execution_count": 8,
   "metadata": {},
   "outputs": [
    {
     "name": "stdout",
     "output_type": "stream",
     "text": [
      " Loading isotope data and density profiles...\n",
      "10\n",
      " Need to carefully check the density profiles...\n"
     ]
    }
   ],
   "source": [
    "VA.loadIsotopes()\n",
    "\n",
    "VA.loadPhiInterp()\n"
   ]
  },
  {
   "cell_type": "code",
   "execution_count": 13,
   "metadata": {
    "collapsed": true
   },
   "outputs": [],
   "source": [
    "depth = 10.6\n",
    "sigp = 1e-28\n",
    "m0 = 1e5"
   ]
  },
  {
   "cell_type": "code",
   "execution_count": 14,
   "metadata": {},
   "outputs": [
    {
     "data": {
      "text/plain": [
       "array([ 510.36606586])"
      ]
     },
     "execution_count": 14,
     "metadata": {},
     "output_type": "execute_result"
    }
   ],
   "source": [
    "VA.calcVinitial_full(200.0, np.pi,  depth=depth, sigma_p=sigp, m_x=m0, target=\"full\")"
   ]
  },
  {
   "cell_type": "code",
   "execution_count": null,
   "metadata": {
    "collapsed": true
   },
   "outputs": [],
   "source": []
  },
  {
   "cell_type": "code",
   "execution_count": 64,
   "metadata": {},
   "outputs": [
    {
     "name": "stderr",
     "output_type": "stream",
     "text": [
      "100%|██████████| 50/50 [00:04<00:00,  5.49it/s]\n"
     ]
    }
   ],
   "source": [
    "vf_list = np.logspace(np.log10(1e-3), np.log10(1000),50)\n",
    "vi_list = 0.0*vf_list\n",
    "for i in tqdm(range(50)):\n",
    "    vi_list[i] = VA.calcVinitial_full(vf_list[i], np.pi,  depth=depth, sigma_p=sigp, m_x=m0, target=\"earth\")"
   ]
  },
  {
   "cell_type": "code",
   "execution_count": 62,
   "metadata": {},
   "outputs": [
    {
     "name": "stdout",
     "output_type": "stream",
     "text": [
      "[ 2.09335214  1.83625751  1.83628087  1.83625067  1.83625403  1.83626474\n",
      "  1.83626663  1.83626116  1.8362549   1.83625571  1.83625255  1.83624792\n",
      "  1.83624473  1.83623685  1.83622618  1.83621433  1.83619823  1.83617658\n",
      "  1.83614769  1.83610937  1.83605915  1.83599233  1.83590341  1.83577641\n",
      "  1.83550109  1.83500071  1.83415165  1.83265182  1.82999109  1.82532193\n",
      "  1.81719056  1.80318691  1.77922614  1.73908837  1.67400157  1.57368825\n",
      "  1.43027117  1.24477329  1.03214909  0.81798837  0.62722078  0.4743103\n",
      "  0.36199116  0.28622059  0.24152455  0.22338953  0.22495276  0.23130932\n",
      "  0.13581324  0.05349551]\n"
     ]
    }
   ],
   "source": []
  },
  {
   "cell_type": "code",
   "execution_count": 65,
   "metadata": {},
   "outputs": [
    {
     "data": {
      "image/png": "[encoded data removed]",
      "text/plain": [
       "<matplotlib.figure.Figure at 0x10bc98190>"
      ]
     },
     "metadata": {},
     "output_type": "display_data"
    }
   ],
   "source": [
    "pl.figure()\n",
    "pl.loglog(vf_list, vi_list)\n",
    "\n",
    "pl.xlim(1, 1000)\n",
    "pl.ylim(1, 10000)\n",
    "\n",
    "pl.plot([1e-3,1e3], [1e-3, 1e3], 'k--')\n",
    "\n",
    "pl.fill_between(vf_list,753.0,10000.0, color='gray', alpha=0.3)\n",
    "\n",
    "pl.xlabel(r\"$v_f$ [km/s]\")\n",
    "pl.ylabel(r\"$v_i$ [km/s]\")\n",
    "pl.show()"
   ]
  },
  {
   "cell_type": "code",
   "execution_count": 66,
   "metadata": {
    "collapsed": true
   },
   "outputs": [],
   "source": []
  },
  {
   "cell_type": "code",
   "execution_count": null,
   "metadata": {
    "collapsed": true
   },
   "outputs": [],
   "source": []
  }
 ],
 "metadata": {
  "kernelspec": {
   "display_name": "Python 2",
   "language": "python",
   "name": "python2"
  },
  "language_info": {
   "codemirror_mode": {
    "name": "ipython",
    "version": 2
   },
   "file_extension": ".py",
   "mimetype": "text/x-python",
   "name": "python",
   "nbconvert_exporter": "python",
   "pygments_lexer": "ipython2",
   "version": "2.7.12"
  }
 },
 "nbformat": 4,
 "nbformat_minor": 2
}
