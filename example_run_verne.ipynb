{
 "cells": [
  {
   "cell_type": "code",
   "execution_count": 1,
   "metadata": {},
   "outputs": [],
   "source": [
    "import datetime"
   ]
  },
  {
   "cell_type": "code",
   "execution_count": 3,
   "metadata": {},
   "outputs": [
    {
     "data": {
      "text/plain": [
       "datetime.datetime(2019, 12, 15, 14, 48, 47, 821450)"
      ]
     },
     "execution_count": 3,
     "metadata": {},
     "output_type": "execute_result"
    }
   ],
   "source": [
    "datetime.datetime.now()"
   ]
  },
  {
   "cell_type": "code",
   "execution_count": 4,
   "metadata": {},
   "outputs": [
    {
     "name": "stdout",
     "output_type": "stream",
     "text": [
      "    File '../data/PhiIntegrals.dat' doesn't exist...\n",
      "    Calculating from scratch...\n"
     ]
    },
    {
     "name": "stderr",
     "output_type": "stream",
     "text": [
      "Traceback (most recent call last):\n",
      "  File \"src/verne.py\", line 16, in <module>\n",
      "    import MaxwellBoltzmann as MB\n",
      "  File \"C:\\Users\\Joran\\Google Drive\\PhD-master\\ubuntu-storage\\windows-anaconda\\verne\\src\\MaxwellBoltzmann.py\", line 49, in <module>\n",
      "    loadPhiInterp()\n",
      "  File \"C:\\Users\\Joran\\Google Drive\\PhD-master\\ubuntu-storage\\windows-anaconda\\verne\\src\\MaxwellBoltzmann.py\", line 45, in loadPhiInterp\n",
      "    np.savetxt(fname, zip(xgrid.flatten(), phigrid.flatten(),z.flatten()))\n",
      "  File \"C:\\Users\\Joran\\programming\\Anaconda3\\envs\\DD_DM\\lib\\site-packages\\numpy\\lib\\npyio.py\", line 1359, in savetxt\n",
      "    open(fname, 'wt').close()\n",
      "FileNotFoundError: [Errno 2] No such file or directory: '../data/PhiIntegrals.dat'\n"
     ]
    }
   ],
   "source": [
    "!python src/verne.py"
   ]
  },
  {
   "cell_type": "code",
   "execution_count": null,
   "metadata": {},
   "outputs": [],
   "source": []
  }
 ],
 "metadata": {
  "kernelspec": {
   "display_name": "Python 3",
   "language": "python",
   "name": "python3"
  },
  "language_info": {
   "codemirror_mode": {
    "name": "ipython",
    "version": 3
   },
   "file_extension": ".py",
   "mimetype": "text/x-python",
   "name": "python",
   "nbconvert_exporter": "python",
   "pygments_lexer": "ipython3",
   "version": "3.7.4"
  }
 },
 "nbformat": 4,
 "nbformat_minor": 2
}
